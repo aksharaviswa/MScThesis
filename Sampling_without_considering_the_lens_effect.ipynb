{
  "nbformat": 4,
  "nbformat_minor": 0,
  "metadata": {
    "colab": {
      "name": "Sampling without considering the lens effect.ipynb",
      "provenance": [],
      "collapsed_sections": []
    },
    "kernelspec": {
      "name": "python3",
      "display_name": "Python 3"
    }
  },
  "cells": [
    {
      "cell_type": "code",
      "metadata": {
        "id": "3JAwvw7FFdMA",
        "outputId": "6aa5f633-f7ef-490a-d0fc-86a0390fa309",
        "colab": {
          "base_uri": "https://localhost:8080/",
          "height": 605
        }
      },
      "source": [
        "!pip install bilby"
      ],
      "execution_count": null,
      "outputs": [
        {
          "output_type": "stream",
          "text": [
            "Collecting bilby\n",
            "\u001b[?25l  Downloading https://files.pythonhosted.org/packages/e5/3b/e98eaedc4ecf3cc03d6a43e9402ca75c25a500faa24739640a93df92c8d8/bilby-1.0.1.tar.gz (11.6MB)\n",
            "\u001b[K     |████████████████████████████████| 11.6MB 334kB/s \n",
            "\u001b[?25hRequirement already satisfied: future in /usr/local/lib/python3.6/dist-packages (from bilby) (0.16.0)\n",
            "Collecting dynesty>=1.0.0\n",
            "\u001b[?25l  Downloading https://files.pythonhosted.org/packages/94/e6/dc4369009259a0a113b3f91e223be9229f71d8350aca6ec8fe978982d2f9/dynesty-1.0.1-py2.py3-none-any.whl (86kB)\n",
            "\u001b[K     |████████████████████████████████| 92kB 8.2MB/s \n",
            "\u001b[?25hCollecting emcee\n",
            "\u001b[?25l  Downloading https://files.pythonhosted.org/packages/97/f4/00151f5f843088337c6a53edd6cbb2df340f1044d23080c662f95219cc3f/emcee-3.0.2-py2.py3-none-any.whl (41kB)\n",
            "\u001b[K     |████████████████████████████████| 51kB 5.0MB/s \n",
            "\u001b[?25hCollecting corner\n",
            "  Downloading https://files.pythonhosted.org/packages/5a/ff/df5e34996aec8bc342c72714d1384e9af17259e6f60c2a63da2f53ba1631/corner-2.1.0-py2.py3-none-any.whl\n",
            "Requirement already satisfied: dill in /usr/local/lib/python3.6/dist-packages (from bilby) (0.3.2)\n",
            "Requirement already satisfied: numpy>=1.9 in /usr/local/lib/python3.6/dist-packages (from bilby) (1.18.5)\n",
            "Requirement already satisfied: matplotlib>=2.0 in /usr/local/lib/python3.6/dist-packages (from bilby) (3.2.2)\n",
            "Requirement already satisfied: pandas in /usr/local/lib/python3.6/dist-packages (from bilby) (1.0.5)\n",
            "Requirement already satisfied: scipy in /usr/local/lib/python3.6/dist-packages (from bilby) (1.4.1)\n",
            "Requirement already satisfied: tqdm in /usr/local/lib/python3.6/dist-packages (from bilby) (4.41.1)\n",
            "Requirement already satisfied: six in /usr/local/lib/python3.6/dist-packages (from dynesty>=1.0.0->bilby) (1.15.0)\n",
            "Requirement already satisfied: setuptools>=40.6.0 in /usr/local/lib/python3.6/dist-packages (from corner->bilby) (49.6.0)\n",
            "Collecting setuptools-scm\n",
            "  Downloading https://files.pythonhosted.org/packages/ad/d3/e54f8b4cde0f6fb4f231629f570c1a33ded18515411dee6df6fe363d976f/setuptools_scm-4.1.2-py2.py3-none-any.whl\n",
            "Requirement already satisfied: wheel in /usr/local/lib/python3.6/dist-packages (from corner->bilby) (0.35.1)\n",
            "Requirement already satisfied: python-dateutil>=2.1 in /usr/local/lib/python3.6/dist-packages (from matplotlib>=2.0->bilby) (2.8.1)\n",
            "Requirement already satisfied: pyparsing!=2.0.4,!=2.1.2,!=2.1.6,>=2.0.1 in /usr/local/lib/python3.6/dist-packages (from matplotlib>=2.0->bilby) (2.4.7)\n",
            "Requirement already satisfied: kiwisolver>=1.0.1 in /usr/local/lib/python3.6/dist-packages (from matplotlib>=2.0->bilby) (1.2.0)\n",
            "Requirement already satisfied: cycler>=0.10 in /usr/local/lib/python3.6/dist-packages (from matplotlib>=2.0->bilby) (0.10.0)\n",
            "Requirement already satisfied: pytz>=2017.2 in /usr/local/lib/python3.6/dist-packages (from pandas->bilby) (2018.9)\n",
            "Building wheels for collected packages: bilby\n",
            "  Building wheel for bilby (setup.py) ... \u001b[?25l\u001b[?25hdone\n",
            "  Created wheel for bilby: filename=bilby-1.0.1-cp36-none-any.whl size=2181064 sha256=19425de3dda5aa408a49579e24433fa69b53244cebb8265523411ed10336f9c1\n",
            "  Stored in directory: /root/.cache/pip/wheels/36/30/57/bb47c00d04c8e74b44d1461e800cc358ae712e6f055ae5256c\n",
            "Successfully built bilby\n",
            "Installing collected packages: dynesty, emcee, setuptools-scm, corner, bilby\n",
            "Successfully installed bilby-1.0.1 corner-2.1.0 dynesty-1.0.1 emcee-3.0.2 setuptools-scm-4.1.2\n"
          ],
          "name": "stdout"
        }
      ]
    },
    {
      "cell_type": "code",
      "metadata": {
        "id": "1sn3f821hc_2",
        "outputId": "b7f511b8-f73a-4173-8760-cf3974263842",
        "colab": {
          "base_uri": "https://localhost:8080/",
          "height": 655
        }
      },
      "source": [
        "!pip install lalsuite"
      ],
      "execution_count": null,
      "outputs": [
        {
          "output_type": "stream",
          "text": [
            "Collecting lalsuite\n",
            "\u001b[?25l  Downloading https://files.pythonhosted.org/packages/14/a8/fd90def121c9c43719f96df5dd079991a248bb3bc24d94395c54a1cf9328/lalsuite-6.76-cp36-cp36m-manylinux2014_x86_64.whl (27.2MB)\n",
            "\u001b[K     |████████████████████████████████| 27.2MB 151kB/s \n",
            "\u001b[?25hCollecting importlib-resources; python_version < \"3.7\"\n",
            "  Downloading https://files.pythonhosted.org/packages/ba/03/0f9595c0c2ef12590877f3c47e5f579759ce5caf817f8256d5dcbd8a1177/importlib_resources-3.0.0-py2.py3-none-any.whl\n",
            "Requirement already satisfied: numpy>=1.7 in /usr/local/lib/python3.6/dist-packages (from lalsuite) (1.18.5)\n",
            "Collecting lscsoft-glue\n",
            "\u001b[?25l  Downloading https://files.pythonhosted.org/packages/3b/65/e93853bc1876516db8d58f4590dba1d6b85eaf9d1bd375926ac7897e525a/lscsoft-glue-2.0.0.tar.gz (1.6MB)\n",
            "\u001b[K     |████████████████████████████████| 1.6MB 43.4MB/s \n",
            "\u001b[?25hRequirement already satisfied: python-dateutil in /usr/local/lib/python3.6/dist-packages (from lalsuite) (2.8.1)\n",
            "Collecting ligo-segments\n",
            "\u001b[?25l  Downloading https://files.pythonhosted.org/packages/62/cd/225e331e95cf6aff8ba13bf9a8053b29248a5e71f7fa9bbb1f0db1eaadff/ligo-segments-1.2.0.tar.gz (48kB)\n",
            "\u001b[K     |████████████████████████████████| 51kB 5.3MB/s \n",
            "\u001b[?25hRequirement already satisfied: scipy in /usr/local/lib/python3.6/dist-packages (from lalsuite) (1.4.1)\n",
            "Requirement already satisfied: matplotlib in /usr/local/lib/python3.6/dist-packages (from lalsuite) (3.2.2)\n",
            "Requirement already satisfied: zipp>=0.4; python_version < \"3.8\" in /usr/local/lib/python3.6/dist-packages (from importlib-resources; python_version < \"3.7\"->lalsuite) (3.1.0)\n",
            "Requirement already satisfied: six in /usr/local/lib/python3.6/dist-packages (from lscsoft-glue->lalsuite) (1.15.0)\n",
            "Collecting pyOpenSSL\n",
            "\u001b[?25l  Downloading https://files.pythonhosted.org/packages/9e/de/f8342b68fa9e981d348039954657bdf681b2ab93de27443be51865ffa310/pyOpenSSL-19.1.0-py2.py3-none-any.whl (53kB)\n",
            "\u001b[K     |████████████████████████████████| 61kB 6.3MB/s \n",
            "\u001b[?25hRequirement already satisfied: cycler>=0.10 in /usr/local/lib/python3.6/dist-packages (from matplotlib->lalsuite) (0.10.0)\n",
            "Requirement already satisfied: kiwisolver>=1.0.1 in /usr/local/lib/python3.6/dist-packages (from matplotlib->lalsuite) (1.2.0)\n",
            "Requirement already satisfied: pyparsing!=2.0.4,!=2.1.2,!=2.1.6,>=2.0.1 in /usr/local/lib/python3.6/dist-packages (from matplotlib->lalsuite) (2.4.7)\n",
            "Collecting cryptography>=2.8\n",
            "\u001b[?25l  Downloading https://files.pythonhosted.org/packages/c0/9c/647e559a6e8be493dc2a7a5d15d26cb501ca60ec299b356f23839a673a83/cryptography-3.1-cp35-abi3-manylinux2010_x86_64.whl (2.6MB)\n",
            "\u001b[K     |████████████████████████████████| 2.6MB 39.3MB/s \n",
            "\u001b[?25hRequirement already satisfied: cffi!=1.11.3,>=1.8 in /usr/local/lib/python3.6/dist-packages (from cryptography>=2.8->pyOpenSSL->lscsoft-glue->lalsuite) (1.14.2)\n",
            "Requirement already satisfied: pycparser in /usr/local/lib/python3.6/dist-packages (from cffi!=1.11.3,>=1.8->cryptography>=2.8->pyOpenSSL->lscsoft-glue->lalsuite) (2.20)\n",
            "Building wheels for collected packages: lscsoft-glue, ligo-segments\n",
            "  Building wheel for lscsoft-glue (setup.py) ... \u001b[?25l\u001b[?25hdone\n",
            "  Created wheel for lscsoft-glue: filename=lscsoft_glue-2.0.0-cp36-cp36m-linux_x86_64.whl size=414162 sha256=2af3a3be76ba36f36f1155ec370fe782443350e8deec62d49e4feffc39d024e1\n",
            "  Stored in directory: /root/.cache/pip/wheels/aa/fa/38/d61b002c627ca54f03755b9a288f4b1fa83291608a4bc47b7b\n",
            "  Building wheel for ligo-segments (setup.py) ... \u001b[?25l\u001b[?25hdone\n",
            "  Created wheel for ligo-segments: filename=ligo_segments-1.2.0-cp36-cp36m-linux_x86_64.whl size=83601 sha256=cce8584692ce10e527b2a79a62f277fb5806a4d64464f242c02b3f14873ef77e\n",
            "  Stored in directory: /root/.cache/pip/wheels/5d/1e/4a/ab4122baed7d67f6abce65b2b12049d3bc7fe5dad24edf89df\n",
            "Successfully built lscsoft-glue ligo-segments\n",
            "Installing collected packages: importlib-resources, cryptography, pyOpenSSL, ligo-segments, lscsoft-glue, lalsuite\n",
            "Successfully installed cryptography-3.1 importlib-resources-3.0.0 lalsuite-6.76 ligo-segments-1.2.0 lscsoft-glue-2.0.0 pyOpenSSL-19.1.0\n"
          ],
          "name": "stdout"
        }
      ]
    },
    {
      "cell_type": "code",
      "metadata": {
        "id": "lyMd_fF2hoT0",
        "outputId": "b329b157-8ce4-4548-c582-357c856e142d",
        "colab": {
          "base_uri": "https://localhost:8080/",
          "height": 588
        }
      },
      "source": [
        "!pip install gwpy"
      ],
      "execution_count": null,
      "outputs": [
        {
          "output_type": "stream",
          "text": [
            "Collecting gwpy\n",
            "\u001b[?25l  Downloading https://files.pythonhosted.org/packages/50/3a/d89c6c61d05d2e988cc6f0d24d52bf097ad0c8dec390eadf7177398d0c4d/gwpy-2.0.1-py2.py3-none-any.whl (1.4MB)\n",
            "\u001b[K     |████████████████████████████████| 1.4MB 2.8MB/s \n",
            "\u001b[?25hCollecting ligotimegps>=1.2.1\n",
            "  Downloading https://files.pythonhosted.org/packages/69/b6/6d6d0585fa2ae936a9f5d411b1f0fbe9fcb0aca0c51a775aa4f8f95fdf5e/ligotimegps-2.0.1-py2.py3-none-any.whl\n",
            "Requirement already satisfied: matplotlib>=3.1.0 in /usr/local/lib/python3.6/dist-packages (from gwpy) (3.2.2)\n",
            "Collecting dqsegdb2\n",
            "  Downloading https://files.pythonhosted.org/packages/5d/97/355617233a3b4a25966b35a536379d23345e9783db009248a199a48e60dd/dqsegdb2-1.0.1-py2.py3-none-any.whl\n",
            "Requirement already satisfied: python-dateutil in /usr/local/lib/python3.6/dist-packages (from gwpy) (2.8.1)\n",
            "Requirement already satisfied: h5py>=2.7.0 in /usr/local/lib/python3.6/dist-packages (from gwpy) (2.10.0)\n",
            "Requirement already satisfied: tqdm>=4.10.0 in /usr/local/lib/python3.6/dist-packages (from gwpy) (4.41.1)\n",
            "Collecting gwosc>=0.5.3\n",
            "  Downloading https://files.pythonhosted.org/packages/6d/85/0747085851cbb3c1ed7ca769b20762022b25d43b4aba7fb5f4ecc6092ea4/gwosc-0.5.6-py3-none-any.whl\n",
            "Requirement already satisfied: astropy>=3.0.0 in /usr/local/lib/python3.6/dist-packages (from gwpy) (4.0.1.post1)\n",
            "Collecting gwdatafind\n",
            "  Downloading https://files.pythonhosted.org/packages/d6/9e/616124723b7a8f2a5399f9288b056bb31f37222b0b7cae46f6bafaa42154/gwdatafind-1.0.4-py2.py3-none-any.whl\n",
            "Requirement already satisfied: ligo-segments>=1.0.0 in /usr/local/lib/python3.6/dist-packages (from gwpy) (1.2.0)\n",
            "Requirement already satisfied: numpy>=1.12.0 in /usr/local/lib/python3.6/dist-packages (from gwpy) (1.18.5)\n",
            "Requirement already satisfied: scipy>=1.2.0 in /usr/local/lib/python3.6/dist-packages (from gwpy) (1.4.1)\n",
            "Requirement already satisfied: kiwisolver>=1.0.1 in /usr/local/lib/python3.6/dist-packages (from matplotlib>=3.1.0->gwpy) (1.2.0)\n",
            "Requirement already satisfied: cycler>=0.10 in /usr/local/lib/python3.6/dist-packages (from matplotlib>=3.1.0->gwpy) (0.10.0)\n",
            "Requirement already satisfied: pyparsing!=2.0.4,!=2.1.2,!=2.1.6,>=2.0.1 in /usr/local/lib/python3.6/dist-packages (from matplotlib>=3.1.0->gwpy) (2.4.7)\n",
            "Requirement already satisfied: six>=1.5 in /usr/local/lib/python3.6/dist-packages (from python-dateutil->gwpy) (1.15.0)\n",
            "Requirement already satisfied: requests>=1.0.0 in /usr/local/lib/python3.6/dist-packages (from gwosc>=0.5.3->gwpy) (2.23.0)\n",
            "Requirement already satisfied: pyOpenSSL in /usr/local/lib/python3.6/dist-packages (from gwdatafind->gwpy) (19.1.0)\n",
            "Requirement already satisfied: idna<3,>=2.5 in /usr/local/lib/python3.6/dist-packages (from requests>=1.0.0->gwosc>=0.5.3->gwpy) (2.10)\n",
            "Requirement already satisfied: urllib3!=1.25.0,!=1.25.1,<1.26,>=1.21.1 in /usr/local/lib/python3.6/dist-packages (from requests>=1.0.0->gwosc>=0.5.3->gwpy) (1.24.3)\n",
            "Requirement already satisfied: chardet<4,>=3.0.2 in /usr/local/lib/python3.6/dist-packages (from requests>=1.0.0->gwosc>=0.5.3->gwpy) (3.0.4)\n",
            "Requirement already satisfied: certifi>=2017.4.17 in /usr/local/lib/python3.6/dist-packages (from requests>=1.0.0->gwosc>=0.5.3->gwpy) (2020.6.20)\n",
            "Requirement already satisfied: cryptography>=2.8 in /usr/local/lib/python3.6/dist-packages (from pyOpenSSL->gwdatafind->gwpy) (3.1)\n",
            "Requirement already satisfied: cffi!=1.11.3,>=1.8 in /usr/local/lib/python3.6/dist-packages (from cryptography>=2.8->pyOpenSSL->gwdatafind->gwpy) (1.14.2)\n",
            "Requirement already satisfied: pycparser in /usr/local/lib/python3.6/dist-packages (from cffi!=1.11.3,>=1.8->cryptography>=2.8->pyOpenSSL->gwdatafind->gwpy) (2.20)\n",
            "Installing collected packages: ligotimegps, gwdatafind, dqsegdb2, gwosc, gwpy\n",
            "Successfully installed dqsegdb2-1.0.1 gwdatafind-1.0.4 gwosc-0.5.6 gwpy-2.0.1 ligotimegps-2.0.1\n"
          ],
          "name": "stdout"
        }
      ]
    },
    {
      "cell_type": "code",
      "metadata": {
        "id": "R8XvFnS95QLN",
        "outputId": "cfa8486e-e655-4c08-e7df-77039bdbf770",
        "colab": {
          "base_uri": "https://localhost:8080/",
          "height": 1000
        }
      },
      "source": [
        "#necessary modules are downloaded\n",
        "\"\"\"\n",
        "A script to sample a lensed signal by assuming that there is no lensing present\n",
        "\"\"\"\n",
        "from __future__ import division, print_function\n",
        "import bilby\n",
        "import numpy as np\n",
        "import scipy\n",
        "from scipy.special import hyp1f1\n",
        "import mpmath as mp\n",
        "import matplotlib.pyplot as plt\n",
        "import lal\n",
        "import lalsimulation\n",
        "\n",
        "# First set up logging and some output directories and labels\n",
        "outdir = 'outdir'\n",
        "label = 'create_your_own_bbh_model'\n",
        "fs = 128 #sampling_frequency\n",
        "T_obs = 1 #duration\n",
        "\n",
        "#lens model function - point mass model\n",
        "def F(w,y):\n",
        "    if(y>0):\n",
        "      xm=0.5*(y+np.sqrt(y*y+4.0))\n",
        "      phim=0.5*((xm-y)**2)-np.log(xm)\n",
        "      HYP = [complex(mp.hyp1f1(((1j/2)*z),1.0,((1j/2)*z*y*y))) for z in w]\n",
        "      F = ((np.exp((np.pi*w)/4)) * (scipy.special.gamma(1-((1j/2)*w))) * HYP * (np.exp(0.5j*w*(np.log(0.5*w)-2.0*phim))))\n",
        "    else:\n",
        "      F=[1.0 for z in w]\n",
        "    return F\n",
        "\n",
        "# Here we define out source model - this is the BBH merger signal in the frequency domain.\n",
        "def gen_bbh(f, mass_1, mass_2, iota, phi, ra, dec, psi, d, geocent_time,y,M):\n",
        "    \"\"\"\n",
        "    generates a BBH frequency domain signal\n",
        "    \"\"\"\n",
        "    Lens_mass = M * scipy.constants.G * lal.MSUN_SI / scipy.constants.c**3 #lens mass - scaled to time\n",
        "    w = 8*np.pi*Lens_mass*f\n",
        "    N = T_obs * fs      # the total number of time samples\n",
        "    dt = 1.0 / fs             # the sampling time (sec)\n",
        "    df = 1.0/T_obs             # the sampling frequency\n",
        "    f_low = 12.0            # lowest frequency of waveform (Hz)\n",
        "    f_max = 64.0\n",
        "    approximant = lalsimulation.IMRPhenomD\n",
        "    dist = d*1e6*lal.PC_SI  # put it as 1 MPc\n",
        "    Mag=F(w,y)\n",
        "    Mag[0]=1.0\n",
        "    if(mass_1<mass_2):\n",
        "      print(mass_1,mass_2)\n",
        "    # make waveform\n",
        "    hp, hc = lalsimulation.SimInspiralChooseFDWaveform(mass_1 * lal.MSUN_SI, mass_2 * lal.MSUN_SI, 0, 0, 0, 0, 0, 0, \n",
        "                                dist, iota, phi, 0, 0, 0, \n",
        "                                df, f_low, f_max, f_low , lal.CreateDict(), approximant)\n",
        "    return {'plus': Mag*hp.data.data, 'cross': Mag*hc.data.data} #adding lens model while returning plus and cross polarisation\n",
        "\n",
        "#injection parameters\n",
        "injection_parameters = dict(mass_1=36.0,mass_2=29.0,iota=150*np.pi/180,phi=0,ra=0, dec=0, psi=0,d=500, geocent_time=0,y=0.1,M=4000)\n",
        "\n",
        "# Now we pass our source function to the WaveformGenerator\n",
        "waveform_generator = bilby.gw.waveform_generator.WaveformGenerator(\n",
        "    duration=T_obs, sampling_frequency=fs,\n",
        "    frequency_domain_source_model=gen_bbh)\n",
        "\n",
        "# Set up interferometers.\n",
        "ifos = bilby.gw.detector.InterferometerList(['H1'])\n",
        "ifos.set_strain_data_from_power_spectral_densities(\n",
        "    sampling_frequency=fs, duration=T_obs,\n",
        "    start_time=injection_parameters['geocent_time'] - 3)\n",
        "ifos.inject_signal(waveform_generator=waveform_generator,\n",
        "                    parameters=injection_parameters)\n",
        "\n",
        "# Here we define the priors for the search. We use the injection parameters\n",
        "# except for the amplitude, f0, and geocent_time\n",
        "\n",
        "from bilby.core.prior import PriorDict, Uniform, Constraint\n",
        "\n",
        "prior = bilby.gw.prior.BBHPriorDict()\n",
        "for key in ['iota', 'phi', 'psi', 'ra', 'dec', 'geocent_time','M']:\n",
        "    prior[key] = injection_parameters[key]\n",
        "\n",
        "prior['y']=-1 #to recover as if there is no lensing effect\n",
        "\n",
        "prior['theta_jn']=0\n",
        "prior['phase']=0\n",
        "prior['luminosity_distance']=0\n",
        "prior['a_1']=0\n",
        "prior['a_2']=0\n",
        "prior['tilt_1']=0\n",
        "prior['tilt_2']=0\n",
        "prior['phi_12']=0\n",
        "prior['phi_jl']=0\n",
        "\n",
        "prior['chirp_mass'] = bilby.prior.Constraint(\n",
        "    name='chirp_mass', latex_label='$M$', minimum=20.0, maximum=40.0,\n",
        "    unit='$M_{\\\\odot}$')\n",
        "\n",
        "prior['mass_ratio'] = bilby.prior.Constraint(\n",
        "    name='mass_ratio', latex_label='$q$', minimum=0.5, maximum=1.0)\n",
        "prior['mass_1'] = Uniform(name='mass_1', minimum=0, maximum=50)\n",
        "prior['mass_2'] = Uniform(name='mass_2', minimum=0, maximum=50)\n",
        "prior['d'] = bilby.core.prior.PowerLaw(alpha=2, name='luminosity_distance', minimum=20, maximum=1000, unit='Mpc', latex_label='$d_L$')\n",
        "\n",
        "likelihood = bilby.gw.likelihood.GravitationalWaveTransient(\n",
        "    interferometers=ifos, waveform_generator=waveform_generator)\n",
        "\n",
        "#plot corner plots\n",
        "result = bilby.core.sampler.run_sampler(\n",
        "    likelihood, prior, sampler='dynesty', outdir=outdir, label=label,\n",
        "    resume=False, sample='unif', injection_parameters=injection_parameters)\n",
        "result.plot_corner()"
      ],
      "execution_count": null,
      "outputs": [
        {
          "output_type": "stream",
          "text": [
            "23:45 bilby INFO    : Waveform generator initiated with\n",
            "  frequency_domain_source_model: __main__.gen_bbh\n",
            "  time_domain_source_model: None\n",
            "  parameter_conversion: bilby.gw.conversion.convert_to_lal_binary_black_hole_parameters\n",
            "/usr/local/lib/python3.6/dist-packages/bilby/gw/detector/psd.py:356: RuntimeWarning: invalid value encountered in multiply\n",
            "  frequency_domain_strain = self.__power_spectral_density_interpolated(frequencies) ** 0.5 * white_noise\n",
            "/usr/local/lib/python3.6/dist-packages/ipykernel_launcher.py:31: RuntimeWarning: divide by zero encountered in log\n",
            "/usr/local/lib/python3.6/dist-packages/ipykernel_launcher.py:31: RuntimeWarning: invalid value encountered in multiply\n",
            "23:45 bilby WARNING : Injecting signal outside segment, start_time=-3, merger time=0.\n",
            "23:45 bilby INFO    : Injected signal in H1:\n",
            "23:45 bilby INFO    :   optimal SNR = 78.76\n",
            "23:45 bilby INFO    :   matched filter SNR = 79.22+0.29j\n",
            "23:45 bilby INFO    :   mass_1 = 36.0\n",
            "23:45 bilby INFO    :   mass_2 = 29.0\n",
            "23:45 bilby INFO    :   iota = 2.6179938779914944\n",
            "23:45 bilby INFO    :   phi = 0\n",
            "23:45 bilby INFO    :   ra = 0\n",
            "23:45 bilby INFO    :   dec = 0\n",
            "23:45 bilby INFO    :   psi = 0\n",
            "23:45 bilby INFO    :   d = 500\n",
            "23:45 bilby INFO    :   geocent_time = 0\n",
            "23:45 bilby INFO    :   y = 0.1\n",
            "23:45 bilby INFO    :   M = 4000\n",
            "23:45 bilby INFO    : No prior given, using default BBH priors in /usr/local/lib/python3.6/dist-packages/bilby/gw/prior_files/precessing_spins_bbh.prior.\n",
            "23:45 bilby INFO    : Running for label 'create_your_own_bbh_model', output will be saved to 'outdir'\n",
            "23:45 bilby INFO    : Using lal version 7.0.0\n",
            "23:45 bilby INFO    : Using lal git version Branch: None;Tag: lalsuite-v6.76;Id: 384ac5e4b9c95803607658118ba361dfc353dade;;Builder: Unknown User <>;Repository status: UNCLEAN: Modified working tree\n",
            "23:45 bilby INFO    : Using lalsimulation version 2.2.0\n",
            "23:45 bilby INFO    : Using lalsimulation git version Branch: None;Tag: lalsuite-v6.76;Id: 384ac5e4b9c95803607658118ba361dfc353dade;;Builder: Unknown User <>;Repository status: UNCLEAN: Modified working tree\n",
            "23:45 bilby INFO    : Search parameters:\n",
            "23:45 bilby INFO    :   mass_1 = Uniform(minimum=0, maximum=50, name='mass_1', latex_label='$m_1$', unit=None, boundary=None)\n",
            "23:45 bilby INFO    :   mass_2 = Uniform(minimum=0, maximum=50, name='mass_2', latex_label='$m_2$', unit=None, boundary=None)\n",
            "23:45 bilby INFO    :   d = PowerLaw(alpha=2, minimum=20, maximum=1000, name='luminosity_distance', latex_label='$d_L$', unit='Mpc', boundary=None)\n",
            "23:45 bilby INFO    :   mass_ratio = Constraint(minimum=0.5, maximum=1.0, name='mass_ratio', latex_label='$q$', unit=None)\n",
            "23:45 bilby INFO    :   chirp_mass = Constraint(minimum=20.0, maximum=40.0, name='chirp_mass', latex_label='$M$', unit='$M_{\\\\odot}$')\n",
            "23:45 bilby INFO    :   luminosity_distance = 0\n",
            "23:45 bilby INFO    :   dec = 0\n",
            "23:45 bilby INFO    :   ra = 0\n",
            "23:45 bilby INFO    :   theta_jn = 0\n",
            "23:45 bilby INFO    :   psi = 0\n",
            "23:45 bilby INFO    :   phase = 0\n",
            "23:45 bilby INFO    :   a_1 = 0\n",
            "23:45 bilby INFO    :   a_2 = 0\n",
            "23:45 bilby INFO    :   tilt_1 = 0\n",
            "23:45 bilby INFO    :   tilt_2 = 0\n",
            "23:45 bilby INFO    :   phi_12 = 0\n",
            "23:45 bilby INFO    :   phi_jl = 0\n",
            "23:45 bilby INFO    :   iota = 2.6179938779914944\n",
            "23:45 bilby INFO    :   phi = 0\n",
            "23:45 bilby INFO    :   geocent_time = 0\n",
            "23:45 bilby INFO    :   M = 4000\n",
            "23:45 bilby INFO    :   y = -1\n",
            "23:45 bilby INFO    : Single likelihood evaluation took 2.208e-03 s\n"
          ],
          "name": "stderr"
        },
        {
          "output_type": "stream",
          "text": [
            "\r0it [00:00, ?it/s]"
          ],
          "name": "stdout"
        },
        {
          "output_type": "stream",
          "text": [
            "23:45 bilby INFO    : Using sampler Dynesty with kwargs {'bound': 'multi', 'sample': 'unif', 'verbose': True, 'periodic': None, 'reflective': None, 'check_point_delta_t': 600, 'nlive': 1000, 'first_update': None, 'walks': 100, 'npdim': None, 'rstate': None, 'queue_size': 1, 'pool': None, 'use_pool': None, 'live_points': None, 'logl_args': None, 'logl_kwargs': None, 'ptform_args': None, 'ptform_kwargs': None, 'enlarge': 1.5, 'bootstrap': None, 'vol_dec': 0.5, 'vol_check': 8.0, 'facc': 0.2, 'slices': 5, 'update_interval': 600, 'print_func': <bound method Dynesty._print_func of <bilby.core.sampler.dynesty.Dynesty object at 0x7f716bd2eba8>>, 'dlogz': 0.1, 'maxiter': None, 'maxcall': None, 'logl_max': inf, 'add_live': True, 'print_progress': True, 'save_bounds': False, 'n_effective': None, 'maxmcmc': 5000, 'nact': 5}\n",
            "23:45 bilby INFO    : Checkpoint every check_point_delta_t = 600s\n",
            "23:45 bilby INFO    : Using dynesty version 1.0.1\n",
            "23:45 bilby INFO    : Generating initial points from the prior\n"
          ],
          "name": "stderr"
        },
        {
          "output_type": "stream",
          "text": [
            "21999it [07:31, 104.91it/s, bound:606 nc: 12 ncall:3.9e+05 eff:5.7% logz-ratio=1741.49+/-0.19 dlogz:0.100>0.1]"
          ],
          "name": "stdout"
        },
        {
          "output_type": "stream",
          "text": [
            "23:53 bilby INFO    : Written checkpoint file outdir/create_your_own_bbh_model_resume.pickle\n",
            "23:53 bilby INFO    : Writing 3538 current samples to outdir/create_your_own_bbh_model_samples.dat\n",
            "/usr/local/lib/python3.6/dist-packages/dynesty/plotting.py:179: RuntimeWarning: overflow encountered in exp\n",
            "  data = [nlive, np.exp(logl), np.exp(logwt), np.exp(logz)]\n",
            "/usr/local/lib/python3.6/dist-packages/dynesty/plotting.py:203: RuntimeWarning: overflow encountered in exp\n",
            "  zspan = (0., 1.05 * np.exp(logz[-1] + 3. * logzerr[-1]))\n",
            "23:53 bilby WARNING : Axis limits cannot be NaN or Inf\n",
            "23:53 bilby WARNING : Failed to create dynesty run plot at checkpoint\n"
          ],
          "name": "stderr"
        },
        {
          "output_type": "stream",
          "text": [
            "\r22002it [07:47, 47.06it/s, bound:607 nc:  1 ncall:3.9e+05 eff:6.0% logz-ratio=1741.56+/-0.19 dlogz:0.000>0.1] \n",
            "\n"
          ],
          "name": "stdout"
        },
        {
          "output_type": "stream",
          "text": [
            "23:53 bilby INFO    : Sampling time: 0:07:29.508492\n",
            "23:53 bilby INFO    : Summary of results:\n",
            "nsamples: 23002\n",
            "ln_noise_evidence: -3184.750\n",
            "ln_evidence: -1443.188 +/-  0.191\n",
            "ln_bayes_factor: 1741.562 +/-  0.191\n",
            "\n"
          ],
          "name": "stderr"
        },
        {
          "output_type": "execute_result",
          "data": {
            "image/png": "[encoded data removed]",
            "text/plain": [
              "<Figure size 547.2x547.2 with 9 Axes>"
            ]
          },
          "metadata": {
            "tags": []
          },
          "execution_count": 5
        }
      ]
    }
  ]
}